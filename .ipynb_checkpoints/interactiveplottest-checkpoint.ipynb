{
 "cells": [
  {
   "cell_type": "markdown",
   "id": "5c994314-265b-4ddb-9987-2077235690af",
   "metadata": {},
   "source": [
    "# test interactive plotting\n",
    "\n",
    "You will need to install ipympl, and perhaps also ipywidgets. See cell below this cell to try that \n",
    "if the next cell does not work."
   ]
  },
  {
   "cell_type": "code",
   "execution_count": null,
   "id": "8774d105-64f3-4ae2-a2be-e1e0ffc3ac2f",
   "metadata": {},
   "outputs": [],
   "source": [
    "import numpy as np\n",
    "import matplotlib.pyplot as plt\n",
    "%matplotlib widget\n",
    "\n",
    "L, n = 2, 400\n",
    "x = np.linspace(-L,L,n)\n",
    "y = x.copy()\n",
    "X, Y = np.meshgrid(x,y)\n",
    "Z = np.exp(-(X**2+Y**2))\n",
    "\n",
    "fig, ax = plt.subplots(subplot_kw={'projection':'3d'})\n",
    "ax.plot_wireframe(X,Y,Z,rstride=40,cstride=40)"
   ]
  },
  {
   "cell_type": "code",
   "execution_count": null,
   "id": "ba950cf7-332d-4c13-b23d-e86f51740a11",
   "metadata": {},
   "outputs": [],
   "source": [
    "#    you may need to install this, and maybe restart kernel or even jupyter(lab)(desktop)......\n",
    "%pip install ipywidgets\n",
    "%pip install "
   ]
  },
  {
   "cell_type": "code",
   "execution_count": null,
   "id": "73622823-95fe-4eb3-b1e4-2ad1987d635a",
   "metadata": {},
   "outputs": [],
   "source": []
  }
 ],
 "metadata": {
  "kernelspec": {
   "display_name": "Python 3 (ipykernel)",
   "language": "python",
   "name": "python3"
  },
  "language_info": {
   "codemirror_mode": {
    "name": "ipython",
    "version": 3
   },
   "file_extension": ".py",
   "mimetype": "text/x-python",
   "name": "python",
   "nbconvert_exporter": "python",
   "pygments_lexer": "ipython3",
   "version": "3.12.4"
  }
 },
 "nbformat": 4,
 "nbformat_minor": 5
}
